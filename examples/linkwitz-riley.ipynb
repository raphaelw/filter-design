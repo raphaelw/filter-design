{
 "cells": [
  {
   "cell_type": "markdown",
   "metadata": {},
   "source": [
    "# Generalized Linkwitz-Riley Crossover\n",
    "\n",
    "Some Links:\n",
    "- https://jupyterbook.org/en/stable/content/math.html"
   ]
  },
  {
   "cell_type": "code",
   "execution_count": 6,
   "metadata": {},
   "outputs": [],
   "source": [
    "import matplotlib.pyplot as plt\n",
    "import matplotlib as mpl\n",
    "import numpy as np\n",
    "from scipy import signal"
   ]
  },
  {
   "cell_type": "code",
   "execution_count": 7,
   "metadata": {},
   "outputs": [],
   "source": [
    "from filterdesign import emqf"
   ]
  },
  {
   "cell_type": "code",
   "execution_count": 13,
   "metadata": {},
   "outputs": [],
   "source": [
    "order = 7\n",
    "stopband_attenuation = 50 #dB"
   ]
  },
  {
   "cell_type": "markdown",
   "metadata": {},
   "source": [
    "$$\n",
    "  \tH_1(s) = \\underbrace{\\frac{P_1(s)}{P(s)}}_{G_1(s)} \\cdot \\frac{P_1(-s)}{P(s)}\n",
    "$$\n",
    "$$\n",
    "  \tH_2(s) = \\frac{P_2(s)}{P(s)} \\cdot \\frac{P_2(-s)}{P(s)}\n",
    "$$\n",
    "$$\n",
    "  \tH_{AP}(s) = H_1(s) + H_2(s) = \\frac{P_1(s)}{P(s)}\n",
    "$$\n",
    "where $G_1(s) = \\frac{P_1(s)}{P(s)}$ is an EMQF lowpass filter and $G_2(s) = \\frac{P_2(s)}{P(s)}$ is the corresponding highpass filter according to the lowpass-to-highpass transformation $G_2(s) = G_1(1/s)$"
   ]
  },
  {
   "cell_type": "code",
   "execution_count": 14,
   "metadata": {},
   "outputs": [],
   "source": [
    "G_1 = emqf.analog_lowpass(N=order, As=stopband_attenuation, f3db=True)"
   ]
  },
  {
   "cell_type": "code",
   "execution_count": 15,
   "metadata": {},
   "outputs": [
    {
     "data": {
      "text/plain": [
       "(array([-0.-1.34624907j, -0.+1.34624907j, -0.-1.62546101j, -0.+1.62546101j,\n",
       "        -0.-2.80902711j, -0.+2.80902711j]),\n",
       " array([-0.10741165-0.99421463j, -0.10741165+0.99421463j,\n",
       "        -0.37520952-0.92694003j, -0.37520952+0.92694003j,\n",
       "        -0.754565  -0.65622532j, -0.754565  +0.65622532j,\n",
       "        -1.        +0.j        ]),\n",
       " 0.026465749142731806)"
      ]
     },
     "execution_count": 15,
     "metadata": {},
     "output_type": "execute_result"
    }
   ],
   "source": [
    "P_1"
   ]
  },
  {
   "cell_type": "code",
   "execution_count": null,
   "metadata": {},
   "outputs": [],
   "source": []
  }
 ],
 "metadata": {
  "kernelspec": {
   "display_name": "emqf-dev",
   "language": "python",
   "name": "python3"
  },
  "language_info": {
   "codemirror_mode": {
    "name": "ipython",
    "version": 3
   },
   "file_extension": ".py",
   "mimetype": "text/x-python",
   "name": "python",
   "nbconvert_exporter": "python",
   "pygments_lexer": "ipython3",
   "version": "3.10.13"
  }
 },
 "nbformat": 4,
 "nbformat_minor": 2
}
